{
 "cells": [
  {
   "cell_type": "markdown",
   "id": "b2317734-e811-4dd4-b1b9-582bad1d64c7",
   "metadata": {},
   "source": [
    "# Python Project\n"
   ]
  },
  {
   "cell_type": "markdown",
   "id": "15dc973e-1d84-49db-979b-19c023f1b089",
   "metadata": {},
   "source": [
    "## Introduction"
   ]
  },
  {
   "cell_type": "markdown",
   "id": "19bd209e-f768-4916-aa71-cba7606c7242",
   "metadata": {},
   "source": [
    "As someone that that lives in the GTA (Mississauga) there’s a lot of driving to do to get from point a to point b, and driving is definitely the most efficient from of transportation. Instead of a 30min bus ride from my home to Square One I would much rather just drive 10min. With that the data question becomes, which country makes the most efficient cars? And I hypothesise that Japanese cars are the most fuel efficient."
   ]
  },
  {
   "cell_type": "markdown",
   "id": "72ce5e62-4238-4c10-b888-115e8498f4f7",
   "metadata": {},
   "source": [
    "Since there are many types of cars and many different makes within each country, it wouldn't be so informative to look just at the country. But to also dig deeper and view which make from the top three most fuel-efficient countries will be more insightful when it comes to selecting a vhecial."
   ]
  },
  {
   "cell_type": "markdown",
   "id": "9dab8aa8-e302-48d5-909f-206d6ebd1db2",
   "metadata": {},
   "source": [
    "## Data Setup and Cleaning"
   ]
  },
  {
   "cell_type": "markdown",
   "id": "939a941c-ef60-4b16-a5bb-06041796c98a",
   "metadata": {},
   "source": [
    "### Loading in all the tools and data"
   ]
  },
  {
   "cell_type": "code",
   "execution_count": 1,
   "id": "a80320da-ac4b-45b7-ae6b-3d1b1df91c60",
   "metadata": {},
   "outputs": [
    {
     "data": {
      "text/html": [
       "<div>\n",
       "<style scoped>\n",
       "    .dataframe tbody tr th:only-of-type {\n",
       "        vertical-align: middle;\n",
       "    }\n",
       "\n",
       "    .dataframe tbody tr th {\n",
       "        vertical-align: top;\n",
       "    }\n",
       "\n",
       "    .dataframe thead th {\n",
       "        text-align: right;\n",
       "    }\n",
       "</style>\n",
       "<table border=\"1\" class=\"dataframe\">\n",
       "  <thead>\n",
       "    <tr style=\"text-align: right;\">\n",
       "      <th></th>\n",
       "      <th>Make</th>\n",
       "      <th>Model</th>\n",
       "      <th>Year</th>\n",
       "      <th>Engine Fuel Type</th>\n",
       "      <th>Engine HP</th>\n",
       "      <th>Engine Cylinders</th>\n",
       "      <th>Transmission Type</th>\n",
       "      <th>Driven_Wheels</th>\n",
       "      <th>Number of Doors</th>\n",
       "      <th>Market Category</th>\n",
       "      <th>Vehicle Size</th>\n",
       "      <th>Vehicle Style</th>\n",
       "      <th>highway MPG</th>\n",
       "      <th>city mpg</th>\n",
       "      <th>Popularity</th>\n",
       "      <th>MSRP</th>\n",
       "    </tr>\n",
       "  </thead>\n",
       "  <tbody>\n",
       "    <tr>\n",
       "      <th>0</th>\n",
       "      <td>BMW</td>\n",
       "      <td>1 Series M</td>\n",
       "      <td>2011</td>\n",
       "      <td>premium unleaded (required)</td>\n",
       "      <td>335.0</td>\n",
       "      <td>6.0</td>\n",
       "      <td>MANUAL</td>\n",
       "      <td>rear wheel drive</td>\n",
       "      <td>2.0</td>\n",
       "      <td>Factory Tuner,Luxury,High-Performance</td>\n",
       "      <td>Compact</td>\n",
       "      <td>Coupe</td>\n",
       "      <td>26</td>\n",
       "      <td>19</td>\n",
       "      <td>3916</td>\n",
       "      <td>46135</td>\n",
       "    </tr>\n",
       "    <tr>\n",
       "      <th>1</th>\n",
       "      <td>BMW</td>\n",
       "      <td>1 Series</td>\n",
       "      <td>2011</td>\n",
       "      <td>premium unleaded (required)</td>\n",
       "      <td>300.0</td>\n",
       "      <td>6.0</td>\n",
       "      <td>MANUAL</td>\n",
       "      <td>rear wheel drive</td>\n",
       "      <td>2.0</td>\n",
       "      <td>Luxury,Performance</td>\n",
       "      <td>Compact</td>\n",
       "      <td>Convertible</td>\n",
       "      <td>28</td>\n",
       "      <td>19</td>\n",
       "      <td>3916</td>\n",
       "      <td>40650</td>\n",
       "    </tr>\n",
       "    <tr>\n",
       "      <th>2</th>\n",
       "      <td>BMW</td>\n",
       "      <td>1 Series</td>\n",
       "      <td>2011</td>\n",
       "      <td>premium unleaded (required)</td>\n",
       "      <td>300.0</td>\n",
       "      <td>6.0</td>\n",
       "      <td>MANUAL</td>\n",
       "      <td>rear wheel drive</td>\n",
       "      <td>2.0</td>\n",
       "      <td>Luxury,High-Performance</td>\n",
       "      <td>Compact</td>\n",
       "      <td>Coupe</td>\n",
       "      <td>28</td>\n",
       "      <td>20</td>\n",
       "      <td>3916</td>\n",
       "      <td>36350</td>\n",
       "    </tr>\n",
       "    <tr>\n",
       "      <th>3</th>\n",
       "      <td>BMW</td>\n",
       "      <td>1 Series</td>\n",
       "      <td>2011</td>\n",
       "      <td>premium unleaded (required)</td>\n",
       "      <td>230.0</td>\n",
       "      <td>6.0</td>\n",
       "      <td>MANUAL</td>\n",
       "      <td>rear wheel drive</td>\n",
       "      <td>2.0</td>\n",
       "      <td>Luxury,Performance</td>\n",
       "      <td>Compact</td>\n",
       "      <td>Coupe</td>\n",
       "      <td>28</td>\n",
       "      <td>18</td>\n",
       "      <td>3916</td>\n",
       "      <td>29450</td>\n",
       "    </tr>\n",
       "    <tr>\n",
       "      <th>4</th>\n",
       "      <td>BMW</td>\n",
       "      <td>1 Series</td>\n",
       "      <td>2011</td>\n",
       "      <td>premium unleaded (required)</td>\n",
       "      <td>230.0</td>\n",
       "      <td>6.0</td>\n",
       "      <td>MANUAL</td>\n",
       "      <td>rear wheel drive</td>\n",
       "      <td>2.0</td>\n",
       "      <td>Luxury</td>\n",
       "      <td>Compact</td>\n",
       "      <td>Convertible</td>\n",
       "      <td>28</td>\n",
       "      <td>18</td>\n",
       "      <td>3916</td>\n",
       "      <td>34500</td>\n",
       "    </tr>\n",
       "  </tbody>\n",
       "</table>\n",
       "</div>"
      ],
      "text/plain": [
       "  Make       Model  Year             Engine Fuel Type  Engine HP  \\\n",
       "0  BMW  1 Series M  2011  premium unleaded (required)      335.0   \n",
       "1  BMW    1 Series  2011  premium unleaded (required)      300.0   \n",
       "2  BMW    1 Series  2011  premium unleaded (required)      300.0   \n",
       "3  BMW    1 Series  2011  premium unleaded (required)      230.0   \n",
       "4  BMW    1 Series  2011  premium unleaded (required)      230.0   \n",
       "\n",
       "   Engine Cylinders Transmission Type     Driven_Wheels  Number of Doors  \\\n",
       "0               6.0            MANUAL  rear wheel drive              2.0   \n",
       "1               6.0            MANUAL  rear wheel drive              2.0   \n",
       "2               6.0            MANUAL  rear wheel drive              2.0   \n",
       "3               6.0            MANUAL  rear wheel drive              2.0   \n",
       "4               6.0            MANUAL  rear wheel drive              2.0   \n",
       "\n",
       "                         Market Category Vehicle Size Vehicle Style  \\\n",
       "0  Factory Tuner,Luxury,High-Performance      Compact         Coupe   \n",
       "1                     Luxury,Performance      Compact   Convertible   \n",
       "2                Luxury,High-Performance      Compact         Coupe   \n",
       "3                     Luxury,Performance      Compact         Coupe   \n",
       "4                                 Luxury      Compact   Convertible   \n",
       "\n",
       "   highway MPG  city mpg  Popularity   MSRP  \n",
       "0           26        19        3916  46135  \n",
       "1           28        19        3916  40650  \n",
       "2           28        20        3916  36350  \n",
       "3           28        18        3916  29450  \n",
       "4           28        18        3916  34500  "
      ]
     },
     "execution_count": 1,
     "metadata": {},
     "output_type": "execute_result"
    }
   ],
   "source": [
    "# import tools\n",
    "import pandas as pd\n",
    "import seaborn as sns\n",
    "import matplotlib.pyplot as plt\n",
    "import numpy as np\n",
    "\n",
    "#load data and view\n",
    "df = pd.read_csv('Car_data.csv')\n",
    "df.head()"
   ]
  },
  {
   "cell_type": "markdown",
   "id": "19090ba7-ce9e-449e-9f3b-68b7aa5d3695",
   "metadata": {},
   "source": [
    "### Adding country of origin (Made)"
   ]
  },
  {
   "cell_type": "markdown",
   "id": "e69e6f4c-f470-4a08-a986-96c709617f46",
   "metadata": {},
   "source": [
    "The first problem is that there is no column that states which country the Make of car is from, so that will need to be added."
   ]
  },
  {
   "cell_type": "code",
   "execution_count": 2,
   "id": "b03f2da6-d51e-482c-9174-2026599fc932",
   "metadata": {},
   "outputs": [
    {
     "data": {
      "text/plain": [
       "array(['BMW', 'Audi', 'FIAT', 'Mercedes-Benz', 'Chrysler', 'Nissan',\n",
       "       'Volvo', 'Mazda', 'Mitsubishi', 'Ferrari', 'Alfa Romeo', 'Toyota',\n",
       "       'McLaren', 'Maybach', 'Pontiac', 'Porsche', 'Saab', 'GMC',\n",
       "       'Hyundai', 'Plymouth', 'Honda', 'Oldsmobile', 'Suzuki', 'Ford',\n",
       "       'Cadillac', 'Kia', 'Bentley', 'Chevrolet', 'Dodge', 'Lamborghini',\n",
       "       'Lincoln', 'Subaru', 'Volkswagen', 'Spyker', 'Buick', 'Acura',\n",
       "       'Rolls-Royce', 'Maserati', 'Lexus', 'Aston Martin', 'Land Rover',\n",
       "       'Lotus', 'Infiniti', 'Scion', 'Genesis', 'HUMMER', 'Tesla',\n",
       "       'Bugatti'], dtype=object)"
      ]
     },
     "execution_count": 2,
     "metadata": {},
     "output_type": "execute_result"
    }
   ],
   "source": [
    "df['Make'].unique() # gives each unique 'Make' so I can create a dictionary with the coresponding country"
   ]
  },
  {
   "cell_type": "code",
   "execution_count": 3,
   "id": "1593ef3b-8eea-4aef-a178-1509286855f8",
   "metadata": {},
   "outputs": [
    {
     "data": {
      "text/html": [
       "<div>\n",
       "<style scoped>\n",
       "    .dataframe tbody tr th:only-of-type {\n",
       "        vertical-align: middle;\n",
       "    }\n",
       "\n",
       "    .dataframe tbody tr th {\n",
       "        vertical-align: top;\n",
       "    }\n",
       "\n",
       "    .dataframe thead th {\n",
       "        text-align: right;\n",
       "    }\n",
       "</style>\n",
       "<table border=\"1\" class=\"dataframe\">\n",
       "  <thead>\n",
       "    <tr style=\"text-align: right;\">\n",
       "      <th></th>\n",
       "      <th>Make</th>\n",
       "      <th>Model</th>\n",
       "      <th>Year</th>\n",
       "      <th>Engine Fuel Type</th>\n",
       "      <th>Engine HP</th>\n",
       "      <th>Engine Cylinders</th>\n",
       "      <th>Transmission Type</th>\n",
       "      <th>Driven_Wheels</th>\n",
       "      <th>Number of Doors</th>\n",
       "      <th>Market Category</th>\n",
       "      <th>Vehicle Size</th>\n",
       "      <th>Vehicle Style</th>\n",
       "      <th>highway MPG</th>\n",
       "      <th>city mpg</th>\n",
       "      <th>Popularity</th>\n",
       "      <th>MSRP</th>\n",
       "      <th>Made</th>\n",
       "    </tr>\n",
       "  </thead>\n",
       "  <tbody>\n",
       "    <tr>\n",
       "      <th>0</th>\n",
       "      <td>BMW</td>\n",
       "      <td>1 Series M</td>\n",
       "      <td>2011</td>\n",
       "      <td>premium unleaded (required)</td>\n",
       "      <td>335.0</td>\n",
       "      <td>6.0</td>\n",
       "      <td>MANUAL</td>\n",
       "      <td>rear wheel drive</td>\n",
       "      <td>2.0</td>\n",
       "      <td>Factory Tuner,Luxury,High-Performance</td>\n",
       "      <td>Compact</td>\n",
       "      <td>Coupe</td>\n",
       "      <td>26</td>\n",
       "      <td>19</td>\n",
       "      <td>3916</td>\n",
       "      <td>46135</td>\n",
       "      <td>German</td>\n",
       "    </tr>\n",
       "    <tr>\n",
       "      <th>1</th>\n",
       "      <td>BMW</td>\n",
       "      <td>1 Series</td>\n",
       "      <td>2011</td>\n",
       "      <td>premium unleaded (required)</td>\n",
       "      <td>300.0</td>\n",
       "      <td>6.0</td>\n",
       "      <td>MANUAL</td>\n",
       "      <td>rear wheel drive</td>\n",
       "      <td>2.0</td>\n",
       "      <td>Luxury,Performance</td>\n",
       "      <td>Compact</td>\n",
       "      <td>Convertible</td>\n",
       "      <td>28</td>\n",
       "      <td>19</td>\n",
       "      <td>3916</td>\n",
       "      <td>40650</td>\n",
       "      <td>German</td>\n",
       "    </tr>\n",
       "    <tr>\n",
       "      <th>2</th>\n",
       "      <td>BMW</td>\n",
       "      <td>1 Series</td>\n",
       "      <td>2011</td>\n",
       "      <td>premium unleaded (required)</td>\n",
       "      <td>300.0</td>\n",
       "      <td>6.0</td>\n",
       "      <td>MANUAL</td>\n",
       "      <td>rear wheel drive</td>\n",
       "      <td>2.0</td>\n",
       "      <td>Luxury,High-Performance</td>\n",
       "      <td>Compact</td>\n",
       "      <td>Coupe</td>\n",
       "      <td>28</td>\n",
       "      <td>20</td>\n",
       "      <td>3916</td>\n",
       "      <td>36350</td>\n",
       "      <td>German</td>\n",
       "    </tr>\n",
       "    <tr>\n",
       "      <th>3</th>\n",
       "      <td>BMW</td>\n",
       "      <td>1 Series</td>\n",
       "      <td>2011</td>\n",
       "      <td>premium unleaded (required)</td>\n",
       "      <td>230.0</td>\n",
       "      <td>6.0</td>\n",
       "      <td>MANUAL</td>\n",
       "      <td>rear wheel drive</td>\n",
       "      <td>2.0</td>\n",
       "      <td>Luxury,Performance</td>\n",
       "      <td>Compact</td>\n",
       "      <td>Coupe</td>\n",
       "      <td>28</td>\n",
       "      <td>18</td>\n",
       "      <td>3916</td>\n",
       "      <td>29450</td>\n",
       "      <td>German</td>\n",
       "    </tr>\n",
       "    <tr>\n",
       "      <th>4</th>\n",
       "      <td>BMW</td>\n",
       "      <td>1 Series</td>\n",
       "      <td>2011</td>\n",
       "      <td>premium unleaded (required)</td>\n",
       "      <td>230.0</td>\n",
       "      <td>6.0</td>\n",
       "      <td>MANUAL</td>\n",
       "      <td>rear wheel drive</td>\n",
       "      <td>2.0</td>\n",
       "      <td>Luxury</td>\n",
       "      <td>Compact</td>\n",
       "      <td>Convertible</td>\n",
       "      <td>28</td>\n",
       "      <td>18</td>\n",
       "      <td>3916</td>\n",
       "      <td>34500</td>\n",
       "      <td>German</td>\n",
       "    </tr>\n",
       "  </tbody>\n",
       "</table>\n",
       "</div>"
      ],
      "text/plain": [
       "  Make       Model  Year             Engine Fuel Type  Engine HP  \\\n",
       "0  BMW  1 Series M  2011  premium unleaded (required)      335.0   \n",
       "1  BMW    1 Series  2011  premium unleaded (required)      300.0   \n",
       "2  BMW    1 Series  2011  premium unleaded (required)      300.0   \n",
       "3  BMW    1 Series  2011  premium unleaded (required)      230.0   \n",
       "4  BMW    1 Series  2011  premium unleaded (required)      230.0   \n",
       "\n",
       "   Engine Cylinders Transmission Type     Driven_Wheels  Number of Doors  \\\n",
       "0               6.0            MANUAL  rear wheel drive              2.0   \n",
       "1               6.0            MANUAL  rear wheel drive              2.0   \n",
       "2               6.0            MANUAL  rear wheel drive              2.0   \n",
       "3               6.0            MANUAL  rear wheel drive              2.0   \n",
       "4               6.0            MANUAL  rear wheel drive              2.0   \n",
       "\n",
       "                         Market Category Vehicle Size Vehicle Style  \\\n",
       "0  Factory Tuner,Luxury,High-Performance      Compact         Coupe   \n",
       "1                     Luxury,Performance      Compact   Convertible   \n",
       "2                Luxury,High-Performance      Compact         Coupe   \n",
       "3                     Luxury,Performance      Compact         Coupe   \n",
       "4                                 Luxury      Compact   Convertible   \n",
       "\n",
       "   highway MPG  city mpg  Popularity   MSRP    Made  \n",
       "0           26        19        3916  46135  German  \n",
       "1           28        19        3916  40650  German  \n",
       "2           28        20        3916  36350  German  \n",
       "3           28        18        3916  29450  German  \n",
       "4           28        18        3916  34500  German  "
      ]
     },
     "execution_count": 3,
     "metadata": {},
     "output_type": "execute_result"
    }
   ],
   "source": [
    "Made_Conversion = {'BMW': 'German', 'Audi': 'German', 'FIAT': 'Italian', 'Mercedes-Benz': 'German', 'Chrysler': 'American', 'Nissan': 'Japanese',\n",
    "       'Volvo': 'Swedish', 'Mazda': 'Japanese', 'Mitsubishi': 'Japanese', 'Ferrari': 'Italian', 'Alfa Romeo': 'Italian', 'Toyota': 'Japanese',\n",
    "       'McLaren': 'British', 'Maybach': 'German', 'Pontiac': 'American', 'Porsche': 'German', 'Saab': 'Swedish', 'GMC': 'American',\n",
    "       'Hyundai': 'South Korean', 'Plymouth': 'American', 'Honda': 'Japanese', 'Oldsmobile': 'American', 'Suzuki': 'Japanese', 'Ford': 'American',\n",
    "       'Cadillac': 'American', 'Kia': 'South Korean', 'Bentley': 'British', 'Chevrolet': 'American', 'Dodge': 'American', 'Lamborghini': 'Italian',\n",
    "       'Lincoln': 'American', 'Subaru': 'Japanese', 'Volkswagen': 'German', 'Spyker': 'Netherlands', 'Buick': 'American', 'Acura': 'Japanese',\n",
    "       'Rolls-Royce': 'British', 'Maserati': 'Italian', 'Lexus': 'Japanese', 'Aston Martin': 'British', 'Land Rover': 'British',\n",
    "       'Lotus': 'British', 'Infiniti': 'Japanese', 'Scion': 'Japanese', 'Genesis': 'South Korean', 'HUMMER': 'American', 'Tesla': 'American',\n",
    "       'Bugatti': 'German'} # creats a dictionary and adds the corresponding County\n",
    "\n",
    "df['Made'] = df['Make'].map(Made_Conversion) # maping in the new dictionary\n",
    "df.head(5)"
   ]
  },
  {
   "cell_type": "markdown",
   "id": "0ff067c1-b044-429a-92b0-6dbe07362ba2",
   "metadata": {},
   "source": [
    "Something that was also noticed was there are many variations in the ‘market category’ column. But many of them have repetitive categories such as 'Luxury, Performance' or 'Luxury, High-Performance'. The next step is to make the category column cleaner and easier to group/graph."
   ]
  },
  {
   "cell_type": "code",
   "execution_count": 4,
   "id": "5ef261b3-6453-4373-a742-8dc982e857e7",
   "metadata": {},
   "outputs": [
    {
     "data": {
      "text/html": [
       "<div>\n",
       "<style scoped>\n",
       "    .dataframe tbody tr th:only-of-type {\n",
       "        vertical-align: middle;\n",
       "    }\n",
       "\n",
       "    .dataframe tbody tr th {\n",
       "        vertical-align: top;\n",
       "    }\n",
       "\n",
       "    .dataframe thead th {\n",
       "        text-align: right;\n",
       "    }\n",
       "</style>\n",
       "<table border=\"1\" class=\"dataframe\">\n",
       "  <thead>\n",
       "    <tr style=\"text-align: right;\">\n",
       "      <th></th>\n",
       "      <th>Make</th>\n",
       "      <th>Model</th>\n",
       "      <th>Year</th>\n",
       "      <th>Engine Fuel Type</th>\n",
       "      <th>Engine HP</th>\n",
       "      <th>Engine Cylinders</th>\n",
       "      <th>Transmission Type</th>\n",
       "      <th>Driven_Wheels</th>\n",
       "      <th>Number of Doors</th>\n",
       "      <th>Market Category</th>\n",
       "      <th>Vehicle Size</th>\n",
       "      <th>Vehicle Style</th>\n",
       "      <th>highway MPG</th>\n",
       "      <th>city mpg</th>\n",
       "      <th>Popularity</th>\n",
       "      <th>MSRP</th>\n",
       "      <th>Made</th>\n",
       "      <th>Category</th>\n",
       "    </tr>\n",
       "  </thead>\n",
       "  <tbody>\n",
       "    <tr>\n",
       "      <th>0</th>\n",
       "      <td>BMW</td>\n",
       "      <td>1 Series M</td>\n",
       "      <td>2011</td>\n",
       "      <td>premium unleaded (required)</td>\n",
       "      <td>335.0</td>\n",
       "      <td>6.0</td>\n",
       "      <td>MANUAL</td>\n",
       "      <td>rear wheel drive</td>\n",
       "      <td>2.0</td>\n",
       "      <td>Factory Tuner,Luxury,High-Performance</td>\n",
       "      <td>Compact</td>\n",
       "      <td>Coupe</td>\n",
       "      <td>26</td>\n",
       "      <td>19</td>\n",
       "      <td>3916</td>\n",
       "      <td>46135</td>\n",
       "      <td>German</td>\n",
       "      <td>Luxury, High-Performance</td>\n",
       "    </tr>\n",
       "    <tr>\n",
       "      <th>1</th>\n",
       "      <td>BMW</td>\n",
       "      <td>1 Series</td>\n",
       "      <td>2011</td>\n",
       "      <td>premium unleaded (required)</td>\n",
       "      <td>300.0</td>\n",
       "      <td>6.0</td>\n",
       "      <td>MANUAL</td>\n",
       "      <td>rear wheel drive</td>\n",
       "      <td>2.0</td>\n",
       "      <td>Luxury,Performance</td>\n",
       "      <td>Compact</td>\n",
       "      <td>Convertible</td>\n",
       "      <td>28</td>\n",
       "      <td>19</td>\n",
       "      <td>3916</td>\n",
       "      <td>40650</td>\n",
       "      <td>German</td>\n",
       "      <td>Luxury, Performance</td>\n",
       "    </tr>\n",
       "    <tr>\n",
       "      <th>2</th>\n",
       "      <td>BMW</td>\n",
       "      <td>1 Series</td>\n",
       "      <td>2011</td>\n",
       "      <td>premium unleaded (required)</td>\n",
       "      <td>300.0</td>\n",
       "      <td>6.0</td>\n",
       "      <td>MANUAL</td>\n",
       "      <td>rear wheel drive</td>\n",
       "      <td>2.0</td>\n",
       "      <td>Luxury,High-Performance</td>\n",
       "      <td>Compact</td>\n",
       "      <td>Coupe</td>\n",
       "      <td>28</td>\n",
       "      <td>20</td>\n",
       "      <td>3916</td>\n",
       "      <td>36350</td>\n",
       "      <td>German</td>\n",
       "      <td>Luxury, High-Performance</td>\n",
       "    </tr>\n",
       "    <tr>\n",
       "      <th>3</th>\n",
       "      <td>BMW</td>\n",
       "      <td>1 Series</td>\n",
       "      <td>2011</td>\n",
       "      <td>premium unleaded (required)</td>\n",
       "      <td>230.0</td>\n",
       "      <td>6.0</td>\n",
       "      <td>MANUAL</td>\n",
       "      <td>rear wheel drive</td>\n",
       "      <td>2.0</td>\n",
       "      <td>Luxury,Performance</td>\n",
       "      <td>Compact</td>\n",
       "      <td>Coupe</td>\n",
       "      <td>28</td>\n",
       "      <td>18</td>\n",
       "      <td>3916</td>\n",
       "      <td>29450</td>\n",
       "      <td>German</td>\n",
       "      <td>Luxury, Performance</td>\n",
       "    </tr>\n",
       "    <tr>\n",
       "      <th>4</th>\n",
       "      <td>BMW</td>\n",
       "      <td>1 Series</td>\n",
       "      <td>2011</td>\n",
       "      <td>premium unleaded (required)</td>\n",
       "      <td>230.0</td>\n",
       "      <td>6.0</td>\n",
       "      <td>MANUAL</td>\n",
       "      <td>rear wheel drive</td>\n",
       "      <td>2.0</td>\n",
       "      <td>Luxury</td>\n",
       "      <td>Compact</td>\n",
       "      <td>Convertible</td>\n",
       "      <td>28</td>\n",
       "      <td>18</td>\n",
       "      <td>3916</td>\n",
       "      <td>34500</td>\n",
       "      <td>German</td>\n",
       "      <td>Luxury</td>\n",
       "    </tr>\n",
       "  </tbody>\n",
       "</table>\n",
       "</div>"
      ],
      "text/plain": [
       "  Make       Model  Year             Engine Fuel Type  Engine HP  \\\n",
       "0  BMW  1 Series M  2011  premium unleaded (required)      335.0   \n",
       "1  BMW    1 Series  2011  premium unleaded (required)      300.0   \n",
       "2  BMW    1 Series  2011  premium unleaded (required)      300.0   \n",
       "3  BMW    1 Series  2011  premium unleaded (required)      230.0   \n",
       "4  BMW    1 Series  2011  premium unleaded (required)      230.0   \n",
       "\n",
       "   Engine Cylinders Transmission Type     Driven_Wheels  Number of Doors  \\\n",
       "0               6.0            MANUAL  rear wheel drive              2.0   \n",
       "1               6.0            MANUAL  rear wheel drive              2.0   \n",
       "2               6.0            MANUAL  rear wheel drive              2.0   \n",
       "3               6.0            MANUAL  rear wheel drive              2.0   \n",
       "4               6.0            MANUAL  rear wheel drive              2.0   \n",
       "\n",
       "                         Market Category Vehicle Size Vehicle Style  \\\n",
       "0  Factory Tuner,Luxury,High-Performance      Compact         Coupe   \n",
       "1                     Luxury,Performance      Compact   Convertible   \n",
       "2                Luxury,High-Performance      Compact         Coupe   \n",
       "3                     Luxury,Performance      Compact         Coupe   \n",
       "4                                 Luxury      Compact   Convertible   \n",
       "\n",
       "   highway MPG  city mpg  Popularity   MSRP    Made                  Category  \n",
       "0           26        19        3916  46135  German  Luxury, High-Performance  \n",
       "1           28        19        3916  40650  German       Luxury, Performance  \n",
       "2           28        20        3916  36350  German  Luxury, High-Performance  \n",
       "3           28        18        3916  29450  German       Luxury, Performance  \n",
       "4           28        18        3916  34500  German                    Luxury  "
      ]
     },
     "execution_count": 4,
     "metadata": {},
     "output_type": "execute_result"
    }
   ],
   "source": [
    "# Categorizing the cars into 6 unique categories based on 'market category' column\n",
    "def Category_Range(category): # create a function to help group the cars into more compareable categories\n",
    "        if 'Luxury,High-Performance' in category:\n",
    "            return ('Luxury, High-Performance')\n",
    "        elif 'Luxury,Performance' in category:\n",
    "            return ('Luxury, Performance')\n",
    "        if  'Luxury' in category:\n",
    "            return ('Luxury')\n",
    "        elif 'High-Performance' in category:\n",
    "            return ('High-Performance')\n",
    "        elif 'Performance' in category:\n",
    "            return ('Performance')\n",
    "        else:\n",
    "            return ('Regular')\n",
    "        \n",
    "df['Category'] = df['Market Category'].map(Category_Range) # maping in category with its coresponding market category\n",
    "df.head(5)"
   ]
  },
  {
   "cell_type": "markdown",
   "id": "a1033933-510f-4cc2-b3ba-10b4bc975146",
   "metadata": {},
   "source": [
    "## Graphing and Findings"
   ]
  },
  {
   "cell_type": "markdown",
   "id": "fff442c9-fbf8-44b4-80f2-3cb21f2fdca3",
   "metadata": {},
   "source": [
    "### Country MPG"
   ]
  },
  {
   "cell_type": "markdown",
   "id": "65ef9dea-b25a-4a91-bff8-427932ba8a85",
   "metadata": {},
   "source": [
    "Check which country has the highest average mpg highway and city throughout all categories of cars"
   ]
  },
  {
   "cell_type": "code",
   "execution_count": 5,
   "id": "874ac946-e35f-4b6e-b6bc-3c77081c8a30",
   "metadata": {},
   "outputs": [],
   "source": [
    "# This code creats a data frame of the country and the avg mpg or both city and highway\n",
    "AVG_HWY = df.groupby('Made').agg(Avg_HWY=('highway MPG', 'mean'))\n",
    "AVG_CITY = df.groupby('Made').agg(Avg_City=('highway MPG', 'mean'))"
   ]
  },
  {
   "cell_type": "code",
   "execution_count": 6,
   "id": "f5cb7b7c-336d-487a-9763-8b48109e888d",
   "metadata": {},
   "outputs": [
    {
     "data": {
      "text/plain": [
       "<AxesSubplot:title={'center':'Highway MPG'}, xlabel='Made'>"
      ]
     },
     "execution_count": 6,
     "metadata": {},
     "output_type": "execute_result"
    },
    {
     "data": {
      "image/png": "[encoded data removed]",
      "text/plain": [
       "<Figure size 432x288 with 1 Axes>"
      ]
     },
     "metadata": {
      "needs_background": "light"
     },
     "output_type": "display_data"
    }
   ],
   "source": [
    "AVG_HWY.sort_values('Avg_HWY').plot(kind ='bar', color='blue', title='Highway MPG') # creating the graph"
   ]
  },
  {
   "cell_type": "code",
   "execution_count": 7,
   "id": "ca77f416-e936-4577-8037-61e94820ec27",
   "metadata": {},
   "outputs": [
    {
     "data": {
      "text/plain": [
       "<AxesSubplot:title={'center':'City MPG'}, xlabel='Made'>"
      ]
     },
     "execution_count": 7,
     "metadata": {},
     "output_type": "execute_result"
    },
    {
     "data": {
      "image/png": "[encoded data removed]",
      "text/plain": [
       "<Figure size 432x288 with 1 Axes>"
      ]
     },
     "metadata": {
      "needs_background": "light"
     },
     "output_type": "display_data"
    }
   ],
   "source": [
    "AVG_CITY.sort_values('Avg_City').plot(kind ='bar', color='orange', title='City MPG') # creating the graph"
   ]
  },
  {
   "cell_type": "markdown",
   "id": "aa828b92-08f0-46cd-8575-c819b229decf",
   "metadata": {},
   "source": [
    "In both city and highway the top three remain consistent with South Korean, German and Japanese."
   ]
  },
  {
   "cell_type": "markdown",
   "id": "09c1f6d7-be83-45fb-bee2-5ac8632660ce",
   "metadata": {},
   "source": [
    "### Breaking down into category"
   ]
  },
  {
   "cell_type": "markdown",
   "id": "df403c15-ac33-4584-ab67-31037afd8b68",
   "metadata": {},
   "source": [
    "Buy viewing the above graphs it can be tempting to conclude South Korean cars as the most fuel-efficient. But that is not entirely the case. From the data frame below displaying the top three countries and their categories Regular South Korean cars make up 80% of all their cars, and with all the Regular cars being the most fuel efficient it’s no surprise that the data can be skewed in favour of South Korea."
   ]
  },
  {
   "cell_type": "markdown",
   "id": "29bf7182-7a63-4a6e-a2a5-4ef2a49a2026",
   "metadata": {},
   "source": [
    "When breaking down the data into the data frame below, German Regular and Luxury cars (Regular: 33 HWY and 25 City, Luxury: 31 HWY and 22 City) are more fuel-efficient than South Korean Regular cars (Regular: 31 HWY and 24 City, Luxury: 26 HWY and 17 City). But as noticed from the previous example of South Korean car data being skewed a further look into the ‘Make’ will give a more clear and definitive answer to which country makes the most fuel-efficient car."
   ]
  },
  {
   "cell_type": "code",
   "execution_count": 10,
   "id": "5ed52219-5e5f-479a-8ca4-a57ed09197a7",
   "metadata": {},
   "outputs": [
    {
     "data": {
      "text/html": [
       "<div>\n",
       "<style scoped>\n",
       "    .dataframe tbody tr th:only-of-type {\n",
       "        vertical-align: middle;\n",
       "    }\n",
       "\n",
       "    .dataframe tbody tr th {\n",
       "        vertical-align: top;\n",
       "    }\n",
       "\n",
       "    .dataframe thead th {\n",
       "        text-align: right;\n",
       "    }\n",
       "</style>\n",
       "<table border=\"1\" class=\"dataframe\">\n",
       "  <thead>\n",
       "    <tr style=\"text-align: right;\">\n",
       "      <th></th>\n",
       "      <th></th>\n",
       "      <th>count</th>\n",
       "      <th>avg_ECY</th>\n",
       "      <th>avg_HWY</th>\n",
       "      <th>avg_City</th>\n",
       "      <th>avg_PRICE</th>\n",
       "    </tr>\n",
       "    <tr>\n",
       "      <th>Made</th>\n",
       "      <th>Category</th>\n",
       "      <th></th>\n",
       "      <th></th>\n",
       "      <th></th>\n",
       "      <th></th>\n",
       "      <th></th>\n",
       "    </tr>\n",
       "  </thead>\n",
       "  <tbody>\n",
       "    <tr>\n",
       "      <th rowspan=\"6\" valign=\"top\">South Korean</th>\n",
       "      <th>High-Performance</th>\n",
       "      <td>15</td>\n",
       "      <td>6.0</td>\n",
       "      <td>24.0</td>\n",
       "      <td>16.0</td>\n",
       "      <td>31170.0</td>\n",
       "    </tr>\n",
       "    <tr>\n",
       "      <th>Luxury</th>\n",
       "      <td>3</td>\n",
       "      <td>6.0</td>\n",
       "      <td>26.0</td>\n",
       "      <td>17.0</td>\n",
       "      <td>46367.0</td>\n",
       "    </tr>\n",
       "    <tr>\n",
       "      <th>Luxury, High-Performance</th>\n",
       "      <td>13</td>\n",
       "      <td>8.0</td>\n",
       "      <td>23.0</td>\n",
       "      <td>15.0</td>\n",
       "      <td>59527.0</td>\n",
       "    </tr>\n",
       "    <tr>\n",
       "      <th>Luxury, Performance</th>\n",
       "      <td>6</td>\n",
       "      <td>6.0</td>\n",
       "      <td>27.0</td>\n",
       "      <td>17.0</td>\n",
       "      <td>40633.0</td>\n",
       "    </tr>\n",
       "    <tr>\n",
       "      <th>Performance</th>\n",
       "      <td>67</td>\n",
       "      <td>4.0</td>\n",
       "      <td>31.0</td>\n",
       "      <td>22.0</td>\n",
       "      <td>27476.0</td>\n",
       "    </tr>\n",
       "    <tr>\n",
       "      <th>Regular</th>\n",
       "      <td>433</td>\n",
       "      <td>5.0</td>\n",
       "      <td>31.0</td>\n",
       "      <td>24.0</td>\n",
       "      <td>23035.0</td>\n",
       "    </tr>\n",
       "    <tr>\n",
       "      <th rowspan=\"6\" valign=\"top\">German</th>\n",
       "      <th>High-Performance</th>\n",
       "      <td>13</td>\n",
       "      <td>7.0</td>\n",
       "      <td>27.0</td>\n",
       "      <td>19.0</td>\n",
       "      <td>434531.0</td>\n",
       "    </tr>\n",
       "    <tr>\n",
       "      <th>Luxury</th>\n",
       "      <td>454</td>\n",
       "      <td>5.0</td>\n",
       "      <td>31.0</td>\n",
       "      <td>22.0</td>\n",
       "      <td>42865.0</td>\n",
       "    </tr>\n",
       "    <tr>\n",
       "      <th>Luxury, High-Performance</th>\n",
       "      <td>437</td>\n",
       "      <td>7.0</td>\n",
       "      <td>24.0</td>\n",
       "      <td>16.0</td>\n",
       "      <td>116214.0</td>\n",
       "    </tr>\n",
       "    <tr>\n",
       "      <th>Luxury, Performance</th>\n",
       "      <td>288</td>\n",
       "      <td>6.0</td>\n",
       "      <td>26.0</td>\n",
       "      <td>18.0</td>\n",
       "      <td>57704.0</td>\n",
       "    </tr>\n",
       "    <tr>\n",
       "      <th>Performance</th>\n",
       "      <td>332</td>\n",
       "      <td>4.0</td>\n",
       "      <td>31.0</td>\n",
       "      <td>23.0</td>\n",
       "      <td>29776.0</td>\n",
       "    </tr>\n",
       "    <tr>\n",
       "      <th>Regular</th>\n",
       "      <td>455</td>\n",
       "      <td>4.0</td>\n",
       "      <td>33.0</td>\n",
       "      <td>25.0</td>\n",
       "      <td>25246.0</td>\n",
       "    </tr>\n",
       "    <tr>\n",
       "      <th rowspan=\"6\" valign=\"top\">Japanese</th>\n",
       "      <th>High-Performance</th>\n",
       "      <td>122</td>\n",
       "      <td>6.0</td>\n",
       "      <td>25.0</td>\n",
       "      <td>18.0</td>\n",
       "      <td>43739.0</td>\n",
       "    </tr>\n",
       "    <tr>\n",
       "      <th>Luxury</th>\n",
       "      <td>428</td>\n",
       "      <td>6.0</td>\n",
       "      <td>27.0</td>\n",
       "      <td>20.0</td>\n",
       "      <td>37157.0</td>\n",
       "    </tr>\n",
       "    <tr>\n",
       "      <th>Luxury, High-Performance</th>\n",
       "      <td>82</td>\n",
       "      <td>7.0</td>\n",
       "      <td>25.0</td>\n",
       "      <td>18.0</td>\n",
       "      <td>60276.0</td>\n",
       "    </tr>\n",
       "    <tr>\n",
       "      <th>Luxury, Performance</th>\n",
       "      <td>277</td>\n",
       "      <td>6.0</td>\n",
       "      <td>26.0</td>\n",
       "      <td>18.0</td>\n",
       "      <td>42561.0</td>\n",
       "    </tr>\n",
       "    <tr>\n",
       "      <th>Performance</th>\n",
       "      <td>329</td>\n",
       "      <td>5.0</td>\n",
       "      <td>28.0</td>\n",
       "      <td>21.0</td>\n",
       "      <td>23866.0</td>\n",
       "    </tr>\n",
       "    <tr>\n",
       "      <th>Regular</th>\n",
       "      <td>2602</td>\n",
       "      <td>5.0</td>\n",
       "      <td>28.0</td>\n",
       "      <td>22.0</td>\n",
       "      <td>24206.0</td>\n",
       "    </tr>\n",
       "  </tbody>\n",
       "</table>\n",
       "</div>"
      ],
      "text/plain": [
       "                                       count  avg_ECY  avg_HWY  avg_City  \\\n",
       "Made         Category                                                      \n",
       "South Korean High-Performance             15      6.0     24.0      16.0   \n",
       "             Luxury                        3      6.0     26.0      17.0   \n",
       "             Luxury, High-Performance     13      8.0     23.0      15.0   \n",
       "             Luxury, Performance           6      6.0     27.0      17.0   \n",
       "             Performance                  67      4.0     31.0      22.0   \n",
       "             Regular                     433      5.0     31.0      24.0   \n",
       "German       High-Performance             13      7.0     27.0      19.0   \n",
       "             Luxury                      454      5.0     31.0      22.0   \n",
       "             Luxury, High-Performance    437      7.0     24.0      16.0   \n",
       "             Luxury, Performance         288      6.0     26.0      18.0   \n",
       "             Performance                 332      4.0     31.0      23.0   \n",
       "             Regular                     455      4.0     33.0      25.0   \n",
       "Japanese     High-Performance            122      6.0     25.0      18.0   \n",
       "             Luxury                      428      6.0     27.0      20.0   \n",
       "             Luxury, High-Performance     82      7.0     25.0      18.0   \n",
       "             Luxury, Performance         277      6.0     26.0      18.0   \n",
       "             Performance                 329      5.0     28.0      21.0   \n",
       "             Regular                    2602      5.0     28.0      22.0   \n",
       "\n",
       "                                       avg_PRICE  \n",
       "Made         Category                             \n",
       "South Korean High-Performance            31170.0  \n",
       "             Luxury                      46367.0  \n",
       "             Luxury, High-Performance    59527.0  \n",
       "             Luxury, Performance         40633.0  \n",
       "             Performance                 27476.0  \n",
       "             Regular                     23035.0  \n",
       "German       High-Performance           434531.0  \n",
       "             Luxury                      42865.0  \n",
       "             Luxury, High-Performance   116214.0  \n",
       "             Luxury, Performance         57704.0  \n",
       "             Performance                 29776.0  \n",
       "             Regular                     25246.0  \n",
       "Japanese     High-Performance            43739.0  \n",
       "             Luxury                      37157.0  \n",
       "             Luxury, High-Performance    60276.0  \n",
       "             Luxury, Performance         42561.0  \n",
       "             Performance                 23866.0  \n",
       "             Regular                     24206.0  "
      ]
     },
     "execution_count": 10,
     "metadata": {},
     "output_type": "execute_result"
    }
   ],
   "source": [
    "# created an aggregation to get more information\n",
    "deepComp = df.groupby(['Made', 'Category']).agg(count=('Category', 'size'), avg_ECY=('Engine Cylinders', 'mean'), avg_HWY=('highway MPG', 'mean'), avg_City=('city mpg', 'mean'),  avg_PRICE=('MSRP', 'mean'))\n",
    "round(deepComp).loc[['South Korean', 'German', 'Japanese']]"
   ]
  },
  {
   "cell_type": "markdown",
   "id": "1a7a521d-787b-4650-865d-e3a859aaaff8",
   "metadata": {},
   "source": [
    "### Car Make Comparison"
   ]
  },
  {
   "cell_type": "markdown",
   "id": "f7a55538-29a9-4cb8-adf4-3b9959d62b56",
   "metadata": {},
   "source": [
    "Now moving on to the specific make within the top three countries"
   ]
  },
  {
   "cell_type": "markdown",
   "id": "205fa05d-22ed-4051-bc50-1e1af10c6dc7",
   "metadata": {},
   "source": [
    "Quick Overview of the graphs for each countries make before digging deeper into the numbers."
   ]
  },
  {
   "cell_type": "code",
   "execution_count": 13,
   "id": "1c37175d-edf3-4322-8661-62a2881e759f",
   "metadata": {},
   "outputs": [],
   "source": [
    "# Creating seperate graphs for each make in their country\n",
    "Japanese_group_graph = df.groupby(['Made', 'Make']).agg(avg_HWY=('highway MPG', 'mean'), avg_City=('city mpg', 'mean')).loc['Japanese']\n",
    "South_korean_gropu_graph = df.groupby(['Made', 'Make']).agg( avg_HWY=('highway MPG', 'mean'), avg_City=('city mpg', 'mean')).loc['South Korean']\n",
    "German_group_graph = df.groupby(['Made', 'Make']).agg(avg_HWY=('highway MPG', 'mean'), avg_City=('city mpg', 'mean')).loc['German']"
   ]
  },
  {
   "cell_type": "code",
   "execution_count": 14,
   "id": "166fabb8-8ebe-4722-a6aa-5c58f486f552",
   "metadata": {},
   "outputs": [
    {
     "data": {
      "text/plain": [
       "<AxesSubplot:title={'center':'South Korean Makes'}, xlabel='Make'>"
      ]
     },
     "execution_count": 14,
     "metadata": {},
     "output_type": "execute_result"
    },
    {
     "data": {
      "image/png": "[encoded data removed]",
      "text/plain": [
       "<Figure size 720x432 with 1 Axes>"
      ]
     },
     "metadata": {
      "needs_background": "light"
     },
     "output_type": "display_data"
    }
   ],
   "source": [
    "South_korean_gropu_graph.plot(kind='bar', figsize=(10,6), title='South Korean Makes')"
   ]
  },
  {
   "cell_type": "code",
   "execution_count": 15,
   "id": "ad9198a9-cf37-4dec-9800-329c3c1646b8",
   "metadata": {},
   "outputs": [
    {
     "data": {
      "text/plain": [
       "<AxesSubplot:title={'center':'German Makes'}, xlabel='Make'>"
      ]
     },
     "execution_count": 15,
     "metadata": {},
     "output_type": "execute_result"
    },
    {
     "data": {
      "image/png": "[encoded data removed]",
      "text/plain": [
       "<Figure size 720x432 with 1 Axes>"
      ]
     },
     "metadata": {
      "needs_background": "light"
     },
     "output_type": "display_data"
    }
   ],
   "source": [
    "German_group_graph.plot(kind='bar', figsize=(10,6), title='German Makes')"
   ]
  },
  {
   "cell_type": "code",
   "execution_count": 16,
   "id": "a882d502-31ca-4b58-b5a9-e0070a446ea1",
   "metadata": {},
   "outputs": [
    {
     "data": {
      "text/plain": [
       "<AxesSubplot:title={'center':'Japanese Makes'}, xlabel='Make'>"
      ]
     },
     "execution_count": 16,
     "metadata": {},
     "output_type": "execute_result"
    },
    {
     "data": {
      "image/png": "[encoded data removed]",
      "text/plain": [
       "<Figure size 720x432 with 1 Axes>"
      ]
     },
     "metadata": {
      "needs_background": "light"
     },
     "output_type": "display_data"
    }
   ],
   "source": [
    "Japanese_group_graph.plot(kind='bar', figsize=(10,6), title='Japanese Makes')"
   ]
  },
  {
   "cell_type": "markdown",
   "id": "90ec8cb1-5da0-45d2-9ad3-580bd7134e1e",
   "metadata": {},
   "source": [
    "## End Results"
   ]
  },
  {
   "cell_type": "markdown",
   "id": "06e4db83-69cd-462e-a65d-53f7d53e8f85",
   "metadata": {},
   "source": [
    "As stated above the higher amount of Volkswagen cars (809) as compared to the rest of the German made could be the reason for a higher avg fuel-efficiency. Although, Volkswagen is at an impressive 32 Highway and 24 City MPG, there is still a more fuel-efficient car make. With a 33 Highway and 25 City MPG, and $1,000 difference in price, the Japanese made Honda is the most fuel-efficient car."
   ]
  },
  {
   "cell_type": "code",
   "execution_count": 17,
   "id": "bc4bc44e-8056-4f16-8a18-56097f515fb0",
   "metadata": {
    "tags": []
   },
   "outputs": [
    {
     "data": {
      "text/html": [
       "<div>\n",
       "<style scoped>\n",
       "    .dataframe tbody tr th:only-of-type {\n",
       "        vertical-align: middle;\n",
       "    }\n",
       "\n",
       "    .dataframe tbody tr th {\n",
       "        vertical-align: top;\n",
       "    }\n",
       "\n",
       "    .dataframe thead th {\n",
       "        text-align: right;\n",
       "    }\n",
       "</style>\n",
       "<table border=\"1\" class=\"dataframe\">\n",
       "  <thead>\n",
       "    <tr style=\"text-align: right;\">\n",
       "      <th></th>\n",
       "      <th>count</th>\n",
       "      <th>avg_ECY</th>\n",
       "      <th>avg_HWY</th>\n",
       "      <th>avg_City</th>\n",
       "      <th>avg_PRICE</th>\n",
       "    </tr>\n",
       "    <tr>\n",
       "      <th>Make</th>\n",
       "      <th></th>\n",
       "      <th></th>\n",
       "      <th></th>\n",
       "      <th></th>\n",
       "      <th></th>\n",
       "    </tr>\n",
       "  </thead>\n",
       "  <tbody>\n",
       "    <tr>\n",
       "      <th>Genesis</th>\n",
       "      <td>3</td>\n",
       "      <td>7.0</td>\n",
       "      <td>25.0</td>\n",
       "      <td>16.0</td>\n",
       "      <td>46617.0</td>\n",
       "    </tr>\n",
       "    <tr>\n",
       "      <th>Hyundai</th>\n",
       "      <td>303</td>\n",
       "      <td>5.0</td>\n",
       "      <td>30.0</td>\n",
       "      <td>22.0</td>\n",
       "      <td>24597.0</td>\n",
       "    </tr>\n",
       "    <tr>\n",
       "      <th>Kia</th>\n",
       "      <td>231</td>\n",
       "      <td>5.0</td>\n",
       "      <td>31.0</td>\n",
       "      <td>24.0</td>\n",
       "      <td>25310.0</td>\n",
       "    </tr>\n",
       "  </tbody>\n",
       "</table>\n",
       "</div>"
      ],
      "text/plain": [
       "         count  avg_ECY  avg_HWY  avg_City  avg_PRICE\n",
       "Make                                                 \n",
       "Genesis      3      7.0     25.0      16.0    46617.0\n",
       "Hyundai    303      5.0     30.0      22.0    24597.0\n",
       "Kia        231      5.0     31.0      24.0    25310.0"
      ]
     },
     "execution_count": 17,
     "metadata": {},
     "output_type": "execute_result"
    }
   ],
   "source": [
    "# aggregated the makes to get better comparable data\n",
    "South_Korean_group = df.groupby(['Made', 'Make']).agg(count=('Category', 'size'), avg_ECY=('Engine Cylinders', 'mean'), avg_HWY=('highway MPG', 'mean'), avg_City=('city mpg', 'mean'),  avg_PRICE=('MSRP', 'mean')).loc['South Korean']\n",
    "round(South_Korean_group)"
   ]
  },
  {
   "cell_type": "markdown",
   "id": "d4febb07-76c0-4a61-9cbc-1afffe307ec5",
   "metadata": {},
   "source": [
    "South Korean Makes ^"
   ]
  },
  {
   "cell_type": "code",
   "execution_count": 18,
   "id": "2af0bb62-13fb-4d99-9f64-902662ccce12",
   "metadata": {},
   "outputs": [
    {
     "data": {
      "text/html": [
       "<div>\n",
       "<style scoped>\n",
       "    .dataframe tbody tr th:only-of-type {\n",
       "        vertical-align: middle;\n",
       "    }\n",
       "\n",
       "    .dataframe tbody tr th {\n",
       "        vertical-align: top;\n",
       "    }\n",
       "\n",
       "    .dataframe thead th {\n",
       "        text-align: right;\n",
       "    }\n",
       "</style>\n",
       "<table border=\"1\" class=\"dataframe\">\n",
       "  <thead>\n",
       "    <tr style=\"text-align: right;\">\n",
       "      <th></th>\n",
       "      <th>count</th>\n",
       "      <th>avg_ECY</th>\n",
       "      <th>avg_HWY</th>\n",
       "      <th>avg_City</th>\n",
       "      <th>avg_PRICE</th>\n",
       "    </tr>\n",
       "    <tr>\n",
       "      <th>Make</th>\n",
       "      <th></th>\n",
       "      <th></th>\n",
       "      <th></th>\n",
       "      <th></th>\n",
       "      <th></th>\n",
       "    </tr>\n",
       "  </thead>\n",
       "  <tbody>\n",
       "    <tr>\n",
       "      <th>Audi</th>\n",
       "      <td>328</td>\n",
       "      <td>6.0</td>\n",
       "      <td>29.0</td>\n",
       "      <td>20.0</td>\n",
       "      <td>53452.0</td>\n",
       "    </tr>\n",
       "    <tr>\n",
       "      <th>BMW</th>\n",
       "      <td>334</td>\n",
       "      <td>6.0</td>\n",
       "      <td>29.0</td>\n",
       "      <td>21.0</td>\n",
       "      <td>61547.0</td>\n",
       "    </tr>\n",
       "    <tr>\n",
       "      <th>Bugatti</th>\n",
       "      <td>3</td>\n",
       "      <td>16.0</td>\n",
       "      <td>14.0</td>\n",
       "      <td>8.0</td>\n",
       "      <td>1757224.0</td>\n",
       "    </tr>\n",
       "    <tr>\n",
       "      <th>Maybach</th>\n",
       "      <td>16</td>\n",
       "      <td>12.0</td>\n",
       "      <td>16.0</td>\n",
       "      <td>10.0</td>\n",
       "      <td>546222.0</td>\n",
       "    </tr>\n",
       "    <tr>\n",
       "      <th>Mercedes-Benz</th>\n",
       "      <td>353</td>\n",
       "      <td>7.0</td>\n",
       "      <td>25.0</td>\n",
       "      <td>18.0</td>\n",
       "      <td>71476.0</td>\n",
       "    </tr>\n",
       "    <tr>\n",
       "      <th>Porsche</th>\n",
       "      <td>136</td>\n",
       "      <td>6.0</td>\n",
       "      <td>25.0</td>\n",
       "      <td>17.0</td>\n",
       "      <td>101622.0</td>\n",
       "    </tr>\n",
       "    <tr>\n",
       "      <th>Volkswagen</th>\n",
       "      <td>809</td>\n",
       "      <td>4.0</td>\n",
       "      <td>32.0</td>\n",
       "      <td>24.0</td>\n",
       "      <td>28102.0</td>\n",
       "    </tr>\n",
       "  </tbody>\n",
       "</table>\n",
       "</div>"
      ],
      "text/plain": [
       "               count  avg_ECY  avg_HWY  avg_City  avg_PRICE\n",
       "Make                                                       \n",
       "Audi             328      6.0     29.0      20.0    53452.0\n",
       "BMW              334      6.0     29.0      21.0    61547.0\n",
       "Bugatti            3     16.0     14.0       8.0  1757224.0\n",
       "Maybach           16     12.0     16.0      10.0   546222.0\n",
       "Mercedes-Benz    353      7.0     25.0      18.0    71476.0\n",
       "Porsche          136      6.0     25.0      17.0   101622.0\n",
       "Volkswagen       809      4.0     32.0      24.0    28102.0"
      ]
     },
     "execution_count": 18,
     "metadata": {},
     "output_type": "execute_result"
    }
   ],
   "source": [
    "German_group = df.groupby(['Made', 'Make']).agg(count=('Category', 'size'), avg_ECY=('Engine Cylinders', 'mean'), avg_HWY=('highway MPG', 'mean'), avg_City=('city mpg', 'mean'),  avg_PRICE=('MSRP', 'mean')).loc['German']\n",
    "round(German_group)"
   ]
  },
  {
   "cell_type": "markdown",
   "id": "12e47241-3e37-4b88-944c-f9c566664d27",
   "metadata": {},
   "source": [
    "German Makes ^"
   ]
  },
  {
   "cell_type": "code",
   "execution_count": 19,
   "id": "f497da88-72ad-4110-9768-c5ff4277f4db",
   "metadata": {},
   "outputs": [
    {
     "data": {
      "text/html": [
       "<div>\n",
       "<style scoped>\n",
       "    .dataframe tbody tr th:only-of-type {\n",
       "        vertical-align: middle;\n",
       "    }\n",
       "\n",
       "    .dataframe tbody tr th {\n",
       "        vertical-align: top;\n",
       "    }\n",
       "\n",
       "    .dataframe thead th {\n",
       "        text-align: right;\n",
       "    }\n",
       "</style>\n",
       "<table border=\"1\" class=\"dataframe\">\n",
       "  <thead>\n",
       "    <tr style=\"text-align: right;\">\n",
       "      <th></th>\n",
       "      <th>count</th>\n",
       "      <th>avg_ECY</th>\n",
       "      <th>avg_HWY</th>\n",
       "      <th>avg_City</th>\n",
       "      <th>avg_PRICE</th>\n",
       "    </tr>\n",
       "    <tr>\n",
       "      <th>Make</th>\n",
       "      <th></th>\n",
       "      <th></th>\n",
       "      <th></th>\n",
       "      <th></th>\n",
       "      <th></th>\n",
       "    </tr>\n",
       "  </thead>\n",
       "  <tbody>\n",
       "    <tr>\n",
       "      <th>Acura</th>\n",
       "      <td>252</td>\n",
       "      <td>5.0</td>\n",
       "      <td>28.0</td>\n",
       "      <td>20.0</td>\n",
       "      <td>34888.0</td>\n",
       "    </tr>\n",
       "    <tr>\n",
       "      <th>Honda</th>\n",
       "      <td>449</td>\n",
       "      <td>5.0</td>\n",
       "      <td>33.0</td>\n",
       "      <td>25.0</td>\n",
       "      <td>26674.0</td>\n",
       "    </tr>\n",
       "    <tr>\n",
       "      <th>Infiniti</th>\n",
       "      <td>330</td>\n",
       "      <td>6.0</td>\n",
       "      <td>25.0</td>\n",
       "      <td>18.0</td>\n",
       "      <td>42394.0</td>\n",
       "    </tr>\n",
       "    <tr>\n",
       "      <th>Lexus</th>\n",
       "      <td>202</td>\n",
       "      <td>6.0</td>\n",
       "      <td>26.0</td>\n",
       "      <td>20.0</td>\n",
       "      <td>47549.0</td>\n",
       "    </tr>\n",
       "    <tr>\n",
       "      <th>Mazda</th>\n",
       "      <td>423</td>\n",
       "      <td>5.0</td>\n",
       "      <td>28.0</td>\n",
       "      <td>21.0</td>\n",
       "      <td>20039.0</td>\n",
       "    </tr>\n",
       "    <tr>\n",
       "      <th>Mitsubishi</th>\n",
       "      <td>213</td>\n",
       "      <td>5.0</td>\n",
       "      <td>28.0</td>\n",
       "      <td>22.0</td>\n",
       "      <td>21241.0</td>\n",
       "    </tr>\n",
       "    <tr>\n",
       "      <th>Nissan</th>\n",
       "      <td>558</td>\n",
       "      <td>5.0</td>\n",
       "      <td>28.0</td>\n",
       "      <td>22.0</td>\n",
       "      <td>28583.0</td>\n",
       "    </tr>\n",
       "    <tr>\n",
       "      <th>Scion</th>\n",
       "      <td>60</td>\n",
       "      <td>4.0</td>\n",
       "      <td>32.0</td>\n",
       "      <td>25.0</td>\n",
       "      <td>19932.0</td>\n",
       "    </tr>\n",
       "    <tr>\n",
       "      <th>Subaru</th>\n",
       "      <td>256</td>\n",
       "      <td>4.0</td>\n",
       "      <td>29.0</td>\n",
       "      <td>22.0</td>\n",
       "      <td>24828.0</td>\n",
       "    </tr>\n",
       "    <tr>\n",
       "      <th>Suzuki</th>\n",
       "      <td>351</td>\n",
       "      <td>5.0</td>\n",
       "      <td>26.0</td>\n",
       "      <td>20.0</td>\n",
       "      <td>17907.0</td>\n",
       "    </tr>\n",
       "    <tr>\n",
       "      <th>Toyota</th>\n",
       "      <td>746</td>\n",
       "      <td>6.0</td>\n",
       "      <td>26.0</td>\n",
       "      <td>22.0</td>\n",
       "      <td>29030.0</td>\n",
       "    </tr>\n",
       "  </tbody>\n",
       "</table>\n",
       "</div>"
      ],
      "text/plain": [
       "            count  avg_ECY  avg_HWY  avg_City  avg_PRICE\n",
       "Make                                                    \n",
       "Acura         252      5.0     28.0      20.0    34888.0\n",
       "Honda         449      5.0     33.0      25.0    26674.0\n",
       "Infiniti      330      6.0     25.0      18.0    42394.0\n",
       "Lexus         202      6.0     26.0      20.0    47549.0\n",
       "Mazda         423      5.0     28.0      21.0    20039.0\n",
       "Mitsubishi    213      5.0     28.0      22.0    21241.0\n",
       "Nissan        558      5.0     28.0      22.0    28583.0\n",
       "Scion          60      4.0     32.0      25.0    19932.0\n",
       "Subaru        256      4.0     29.0      22.0    24828.0\n",
       "Suzuki        351      5.0     26.0      20.0    17907.0\n",
       "Toyota        746      6.0     26.0      22.0    29030.0"
      ]
     },
     "execution_count": 19,
     "metadata": {},
     "output_type": "execute_result"
    }
   ],
   "source": [
    "Japanese_group = df.groupby(['Made', 'Make']).agg(count=('Category', 'size'), avg_ECY=('Engine Cylinders', 'mean'), avg_HWY=('highway MPG', 'mean'), avg_City=('city mpg', 'mean'),  avg_PRICE=('MSRP', 'mean')).loc['Japanese']\n",
    "round(Japanese_group)"
   ]
  },
  {
   "cell_type": "markdown",
   "id": "a9bb7078-22b1-4029-b85b-6791a487c23c",
   "metadata": {},
   "source": [
    "Japanese makes ^"
   ]
  },
  {
   "cell_type": "markdown",
   "id": "040e343e-5761-451f-9546-2d5a338c79b9",
   "metadata": {},
   "source": [
    "## Conclusion and Errors"
   ]
  },
  {
   "cell_type": "markdown",
   "id": "0a20b57f-f445-43c4-b658-8af02010d5e5",
   "metadata": {},
   "source": [
    "As Honda being the most fuel-efficient make of car, it can be concluded that Japanese cars are the most fuel efficient."
   ]
  },
  {
   "cell_type": "markdown",
   "id": "976d3f82-1acc-454b-8b2a-dbfe1ba4ca74",
   "metadata": {},
   "source": [
    "Possible room for errors exists. As the report only went as deep as the Make of the car and not the model. The model of a car can impact the results quite a bit as some companies may make very fuel-efficient models and high-performance models. Best two examples being the Toyota corolla compared to the Toyota supra. Bother would be in the make of Toyota but averaged together."
   ]
  },
  {
   "cell_type": "markdown",
   "id": "946247dd-2436-44bf-acb9-3f901ce28720",
   "metadata": {},
   "source": [
    "### Engine Cylinders vs MPG and Horse Power (Extra)"
   ]
  },
  {
   "cell_type": "markdown",
   "id": "9d101c8c-223a-4ec1-ae50-edd2774441eb",
   "metadata": {},
   "source": [
    "A key factor to notice is that the avg engine cylinders for Regular and Luxury German cars is 4 and 5, which is one less than Japanese and South Korean Regular and Luxury cars. The charts below were to test the impact engine cylinders have on MPG and horse power for further analysis."
   ]
  },
  {
   "cell_type": "code",
   "execution_count": 11,
   "id": "b0d713fd-0173-4228-bc42-c045f6bee5f0",
   "metadata": {},
   "outputs": [
    {
     "data": {
      "text/plain": [
       "<AxesSubplot:xlabel='Engine Cylinders', ylabel='highway MPG'>"
      ]
     },
     "execution_count": 11,
     "metadata": {},
     "output_type": "execute_result"
    },
    {
     "data": {
      "image/png": "[encoded data removed]",
      "text/plain": [
       "<Figure size 720x360 with 1 Axes>"
      ]
     },
     "metadata": {
      "needs_background": "light"
     },
     "output_type": "display_data"
    }
   ],
   "source": [
    "plt.figure(figsize=(10,5)) \n",
    "sns.scatterplot(data=df, x='Engine Cylinders', y='highway MPG', hue='Engine Fuel Type')"
   ]
  },
  {
   "cell_type": "code",
   "execution_count": 12,
   "id": "0c4e8225-e115-426e-939d-d383b60ed0ea",
   "metadata": {},
   "outputs": [
    {
     "data": {
      "text/plain": [
       "<AxesSubplot:xlabel='Engine Cylinders', ylabel='Engine HP'>"
      ]
     },
     "execution_count": 12,
     "metadata": {},
     "output_type": "execute_result"
    },
    {
     "data": {
      "image/png": "[encoded data removed]",
      "text/plain": [
       "<Figure size 1008x432 with 1 Axes>"
      ]
     },
     "metadata": {
      "needs_background": "light"
     },
     "output_type": "display_data"
    }
   ],
   "source": [
    "plt.figure(figsize=(14,6))\n",
    "sns.scatterplot(data=df, x='Engine Cylinders', y='Engine HP', hue='Engine Fuel Type')"
   ]
  },
  {
   "cell_type": "markdown",
   "id": "848f5fd9-634c-4108-b026-e95bbb7bb568",
   "metadata": {},
   "source": [
    "From both graphs there is a correlation to be made. As engine cylinders increase, MPG decreases and horse power increases. "
   ]
  }
 ],
 "metadata": {
  "kernelspec": {
   "display_name": "Python 3 (ipykernel)",
   "language": "python",
   "name": "python3"
  },
  "language_info": {
   "codemirror_mode": {
    "name": "ipython",
    "version": 3
   },
   "file_extension": ".py",
   "mimetype": "text/x-python",
   "name": "python",
   "nbconvert_exporter": "python",
   "pygments_lexer": "ipython3",
   "version": "3.9.7"
  }
 },
 "nbformat": 4,
 "nbformat_minor": 5
}
